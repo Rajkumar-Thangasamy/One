{
  "nbformat": 4,
  "nbformat_minor": 0,
  "metadata": {
    "colab": {
      "provenance": [],
      "authorship_tag": "ABX9TyNcaGovdkA8+qJwuB7PFMZr",
      "include_colab_link": true
    },
    "kernelspec": {
      "name": "python3",
      "display_name": "Python 3"
    },
    "language_info": {
      "name": "python"
    }
  },
  "cells": [
    {
      "cell_type": "markdown",
      "metadata": {
        "id": "view-in-github",
        "colab_type": "text"
      },
      "source": [
        "<a href=\"https://colab.research.google.com/github/Rajkumar-Thangasamy/One/blob/main/Data_Structure_List.ipynb\" target=\"_parent\"><img src=\"https://colab.research.google.com/assets/colab-badge.svg\" alt=\"Open In Colab\"/></a>"
      ]
    },
    {
      "cell_type": "markdown",
      "source": [
        "# **List**\n",
        "\n",
        "-> List is one of the data strcutures of Python\n",
        "\n",
        "-> A list is a mutable, ordered collection of items\n",
        "\n",
        "-> We can store any data type—strings, numbers, even other lists\n",
        "\n",
        "-> List is a collection of data types that is\n",
        "\n",
        "✅ Ordered: Maintains insertion order\n",
        "\n",
        "✅ Mutable: You can change it after creation\n",
        "\n",
        "✅ Indexable: Access elements with []\n",
        "\n",
        "✅ Iterable: You can loop through it"
      ],
      "metadata": {
        "id": "SAZIdBvhv67E"
      }
    },
    {
      "cell_type": "markdown",
      "source": [
        "# **List Syntax**\n",
        "\n",
        "-> Lists are denoted with sqaure brackets [] in Python."
      ],
      "metadata": {
        "id": "y8T_xMHRwmkG"
      }
    },
    {
      "cell_type": "code",
      "source": [
        "list_a = ['item-1', 'item-2', 'item-3']\n",
        "\n",
        "list_b = ['razz',22,'chennai',5.11,True]"
      ],
      "metadata": {
        "id": "1EJLwhvXwvb7"
      },
      "execution_count": null,
      "outputs": []
    },
    {
      "cell_type": "markdown",
      "source": [
        "# **Directory**\n",
        "\n",
        "-> To show the directory/list of things (attributes/methods/operations/functions) this object can do\n",
        "\n",
        "-> dir() is a built-in Python function that shows you a list of all the valid operations that can be used with that object\n",
        "\n",
        "-> The internal attributes are called as \"dunder methods/double underscore methods\" in all the data structures # Example: (__doc__) , (__format__)"
      ],
      "metadata": {
        "id": "oqSkNICtxRIo"
      }
    },
    {
      "cell_type": "code",
      "source": [
        "dir(list)"
      ],
      "metadata": {
        "colab": {
          "base_uri": "https://localhost:8080/"
        },
        "id": "xsCRkkLew2v-",
        "outputId": "c3d29632-ee85-49f7-f350-e1fd558e8070"
      },
      "execution_count": null,
      "outputs": [
        {
          "output_type": "execute_result",
          "data": {
            "text/plain": [
              "['__add__',\n",
              " '__class__',\n",
              " '__class_getitem__',\n",
              " '__contains__',\n",
              " '__delattr__',\n",
              " '__delitem__',\n",
              " '__dir__',\n",
              " '__doc__',\n",
              " '__eq__',\n",
              " '__format__',\n",
              " '__ge__',\n",
              " '__getattribute__',\n",
              " '__getitem__',\n",
              " '__getstate__',\n",
              " '__gt__',\n",
              " '__hash__',\n",
              " '__iadd__',\n",
              " '__imul__',\n",
              " '__init__',\n",
              " '__init_subclass__',\n",
              " '__iter__',\n",
              " '__le__',\n",
              " '__len__',\n",
              " '__lt__',\n",
              " '__mul__',\n",
              " '__ne__',\n",
              " '__new__',\n",
              " '__reduce__',\n",
              " '__reduce_ex__',\n",
              " '__repr__',\n",
              " '__reversed__',\n",
              " '__rmul__',\n",
              " '__setattr__',\n",
              " '__setitem__',\n",
              " '__sizeof__',\n",
              " '__str__',\n",
              " '__subclasshook__',\n",
              " 'append',\n",
              " 'clear',\n",
              " 'copy',\n",
              " 'count',\n",
              " 'extend',\n",
              " 'index',\n",
              " 'insert',\n",
              " 'pop',\n",
              " 'remove',\n",
              " 'reverse',\n",
              " 'sort']"
            ]
          },
          "metadata": {},
          "execution_count": 4
        }
      ]
    },
    {
      "cell_type": "markdown",
      "source": [
        "# **Append**\n",
        "\n",
        "-> The append funtion adds an item (x) to the end of a list\n",
        "\n",
        "-> Syntax: .append(x)\n",
        "\n",
        "-> It modifies the original list\n",
        "\n",
        "-> Always adds at the end of the list\n",
        "\n",
        "-> Only one item?\tYes – one item at a time"
      ],
      "metadata": {
        "id": "5uzZzjYLxf2N"
      }
    },
    {
      "cell_type": "code",
      "source": [
        "company = ['Wipro','Capgemini','Cognizant','TCS','HCLTech']\n",
        "company.append('Amazon')\n",
        "print(company)"
      ],
      "metadata": {
        "colab": {
          "base_uri": "https://localhost:8080/"
        },
        "id": "JqSQJVqXx4st",
        "outputId": "9959ca03-8845-4805-eddd-80395ea6c09f"
      },
      "execution_count": null,
      "outputs": [
        {
          "output_type": "stream",
          "name": "stdout",
          "text": [
            "['Wipro', 'Capgemini', 'Cognizant', 'TCS', 'HCLTech', 'Amazon']\n"
          ]
        }
      ]
    },
    {
      "cell_type": "code",
      "source": [
        "black = [25,31,49,53,67]\n",
        "black.append([70,82])\n",
        "print(black)"
      ],
      "metadata": {
        "colab": {
          "base_uri": "https://localhost:8080/"
        },
        "id": "biCgxDWX0idw",
        "outputId": "233b16dc-19ef-442c-ccbf-14ee3505b73e"
      },
      "execution_count": null,
      "outputs": [
        {
          "output_type": "stream",
          "name": "stdout",
          "text": [
            "[25, 31, 49, 53, 67, [70, 82]]\n"
          ]
        }
      ]
    },
    {
      "cell_type": "code",
      "source": [
        "black = [25,31,49,53,67]\n",
        "black.append((10,11))\n",
        "print(black)"
      ],
      "metadata": {
        "colab": {
          "base_uri": "https://localhost:8080/"
        },
        "id": "nerG3g0kSUKR",
        "outputId": "cee38f9c-3a80-4e67-d80d-47091e42eba9"
      },
      "execution_count": null,
      "outputs": [
        {
          "output_type": "stream",
          "name": "stdout",
          "text": [
            "[25, 31, 49, 53, 67, (10, 11)]\n"
          ]
        }
      ]
    },
    {
      "cell_type": "markdown",
      "source": [
        "# **Extend**\n",
        "\n",
        "-> Adds each element from an iterable (like list, tuple, set, etc.) to the end of the current list\n",
        "\n",
        "-> Modifies list? Yes, in-place (doesn’t create a new list, like append)\n",
        "\n",
        "-> Takes what?\tAn iterable – like a list, tuple, string, set, etc.\n",
        "\n",
        "-> Adds what?\tAdds each element of the iterable, not the whole thing\n",
        "\n",
        "-> Multiple items?\tYes – great for merging collections. More than one elements\n",
        "\n",
        "-> You can use .extend() to add multiple elements from any iterable (like a tuple, set, string, or even a dictionary's keys) into a list.\n"
      ],
      "metadata": {
        "id": "VwJLGg_j39_s"
      }
    },
    {
      "cell_type": "code",
      "source": [
        "\n",
        "company = ['Wipro', 'Capgemini', 'Cognizant', 'TCS', 'HCLTech', 'Amazon']\n",
        "company.extend('UST')\n",
        "print(company)"
      ],
      "metadata": {
        "colab": {
          "base_uri": "https://localhost:8080/"
        },
        "id": "Njps4vJI5Iyj",
        "outputId": "4accc561-6e32-4c4c-de5e-c657174ba095"
      },
      "execution_count": null,
      "outputs": [
        {
          "output_type": "stream",
          "name": "stdout",
          "text": [
            "['Wipro', 'Capgemini', 'Cognizant', 'TCS', 'HCLTech', 'Amazon', 'U', 'S', 'T']\n"
          ]
        }
      ]
    },
    {
      "cell_type": "code",
      "source": [
        "company = ['Wipro', 'Capgemini', 'Cognizant', 'TCS', 'HCLTech', 'Amazon', 'U', 'S', 'T']\n",
        "company.extend(['Infosys','Genpact'])\n",
        "print(company)"
      ],
      "metadata": {
        "colab": {
          "base_uri": "https://localhost:8080/"
        },
        "id": "fxNBUzXz5erB",
        "outputId": "84585eb0-d930-4dc7-85dd-34c7bb5f0538"
      },
      "execution_count": null,
      "outputs": [
        {
          "output_type": "stream",
          "name": "stdout",
          "text": [
            "['Wipro', 'Capgemini', 'Cognizant', 'TCS', 'HCLTech', 'Amazon', 'U', 'S', 'T', 'Infosys', 'Genpact']\n"
          ]
        }
      ]
    },
    {
      "cell_type": "code",
      "source": [
        "company = ['Wipro', 'Capgemini', 'Cognizant', 'TCS', 'HCLTech', 'Amazon', 'U', 'S', 'T', 'Infosys', 'Genpact']\n",
        "company.extend(('MPhasis','Deloitte'))\n",
        "print(company)"
      ],
      "metadata": {
        "colab": {
          "base_uri": "https://localhost:8080/"
        },
        "id": "pSYTcnJ08KDp",
        "outputId": "42c15f80-de66-4d93-ed67-42392fb52a5f"
      },
      "execution_count": null,
      "outputs": [
        {
          "output_type": "stream",
          "name": "stdout",
          "text": [
            "['Wipro', 'Capgemini', 'Cognizant', 'TCS', 'HCLTech', 'Amazon', 'U', 'S', 'T', 'Infosys', 'Genpact', 'MPhasis', 'Deloitte']\n"
          ]
        }
      ]
    },
    {
      "cell_type": "code",
      "source": [
        "company = ['Wipro', 'Capgemini', 'Cognizant', 'TCS', 'HCLTech', 'Amazon', 'U', 'S', 'T', 'Infosys', 'Genpact', 'MPhasis', 'Deloitte']\n",
        "company.extend({'Coforge'})\n",
        "print(company)"
      ],
      "metadata": {
        "colab": {
          "base_uri": "https://localhost:8080/"
        },
        "id": "twTvvCUx8cXG",
        "outputId": "2f0b2ee4-b70b-43f3-f9ff-3f326bbac948"
      },
      "execution_count": null,
      "outputs": [
        {
          "output_type": "stream",
          "name": "stdout",
          "text": [
            "['Wipro', 'Capgemini', 'Cognizant', 'TCS', 'HCLTech', 'Amazon', 'U', 'S', 'T', 'Infosys', 'Genpact', 'MPhasis', 'Deloitte', 'Coforge']\n"
          ]
        }
      ]
    },
    {
      "cell_type": "markdown",
      "source": [
        "# **Insert**\n",
        "\n",
        "-> Inserts a value into the list at the specified position (index,value).\n",
        "\n",
        "-> It doesn't replace, and it doesn’t remove anything — it simply slides the existing items to the right to make space\n",
        "\n",
        "-> Syntax: list_name.insert(index, value)\n",
        "*   index: The position where you want to insert the value\n",
        "*   value: The element you want to insert\n",
        "\n",
        "-> You can insert any data type into a list using .insert(), including another list, tuple, set, dictionary, str, int, float, bool"
      ],
      "metadata": {
        "id": "wm805NoTE7rb"
      }
    },
    {
      "cell_type": "code",
      "source": [
        "company = ['Wipro', 'Capgemini', 'Cognizant', 'TCS', 'HCLTech', 'Amazon', 'U', 'S', 'T', 'Infosys', 'Genpact', 'MPhasis', 'Deloitte', 'Coforge']\n",
        "company.insert(1,'PwC')\n",
        "print(company)"
      ],
      "metadata": {
        "colab": {
          "base_uri": "https://localhost:8080/"
        },
        "id": "gb0pNFmeFcMe",
        "outputId": "83a489fc-2dfa-468e-f178-de8ea2379ff5"
      },
      "execution_count": null,
      "outputs": [
        {
          "output_type": "stream",
          "name": "stdout",
          "text": [
            "['Wipro', 'PwC', 'Capgemini', 'Cognizant', 'TCS', 'HCLTech', 'Amazon', 'U', 'S', 'T', 'Infosys', 'Genpact', 'MPhasis', 'Deloitte', 'Coforge']\n"
          ]
        }
      ]
    },
    {
      "cell_type": "code",
      "source": [
        "info = ['name', 'age']\n",
        "info.insert(0, ['location','mailID'])\n",
        "print(info)\n"
      ],
      "metadata": {
        "colab": {
          "base_uri": "https://localhost:8080/"
        },
        "id": "5galxMw-WGMq",
        "outputId": "f0e8801d-74fb-45b2-fe7d-660a20a5a99d"
      },
      "execution_count": null,
      "outputs": [
        {
          "output_type": "stream",
          "name": "stdout",
          "text": [
            "[['location', 'mailID'], 'name', 'age']\n"
          ]
        }
      ]
    },
    {
      "cell_type": "code",
      "source": [
        "info = [['location', 'mailID'], 'name', 'age']\n",
        "info.insert(0,('DOB','Gender'))\n",
        "print(info)\n"
      ],
      "metadata": {
        "colab": {
          "base_uri": "https://localhost:8080/"
        },
        "id": "VraB5OJhEYOH",
        "outputId": "fc8d6bed-cfa3-41ee-e1d3-51e0b1ab9e1f"
      },
      "execution_count": null,
      "outputs": [
        {
          "output_type": "stream",
          "name": "stdout",
          "text": [
            "[('DOB', 'Gender'), ['location', 'mailID'], 'name', 'age']\n"
          ]
        }
      ]
    },
    {
      "cell_type": "code",
      "source": [
        "info = [('DOB', 'Gender'), ['location', 'mailID'], 'name', 'age']\n",
        "info.insert(0,{'Address'})\n",
        "print(info)"
      ],
      "metadata": {
        "id": "7tshUy9vWd-a",
        "colab": {
          "base_uri": "https://localhost:8080/"
        },
        "outputId": "14e106c0-8696-42b0-d460-810bcfc8041f"
      },
      "execution_count": null,
      "outputs": [
        {
          "output_type": "stream",
          "name": "stdout",
          "text": [
            "[{'Address'}, ('DOB', 'Gender'), ['location', 'mailID'], 'name', 'age']\n"
          ]
        }
      ]
    },
    {
      "cell_type": "markdown",
      "source": [
        "# **Remove**\n",
        "\n",
        "-> It is a list method used to remove the first occurrence of the element x from the list\n",
        "\n",
        "-> Syntax: list_name.remove(x)\n",
        "\n",
        "-> It removes only the first occurrence of x\n",
        "\n",
        "-> If x is not present in the list, Python will throw a ValueError\n",
        "\n",
        "-> It modifies the original list and returns None (like many list methods)\n",
        "\n"
      ],
      "metadata": {
        "id": "e9Ha56CU1MZd"
      }
    },
    {
      "cell_type": "code",
      "source": [
        "ipl = ['RR','DCH','CSK','CSK','KKR','MI','KKR','MI','SRH','MI','CSK','MI','MI','CSK','GT','CSK','KKR']\n",
        "ipl.remove('MI')\n",
        "print(ipl)"
      ],
      "metadata": {
        "colab": {
          "base_uri": "https://localhost:8080/"
        },
        "id": "832V5kfr1L5F",
        "outputId": "1473c634-54c7-4a83-848d-106641b0c4dd"
      },
      "execution_count": null,
      "outputs": [
        {
          "output_type": "stream",
          "name": "stdout",
          "text": [
            "['RR', 'DCH', 'CSK', 'CSK', 'KKR', 'KKR', 'MI', 'SRH', 'MI', 'CSK', 'MI', 'MI', 'CSK', 'GT', 'CSK', 'KKR']\n"
          ]
        }
      ]
    },
    {
      "cell_type": "markdown",
      "source": [
        "# **Pop**\n",
        "\n",
        "-> It removes and returns an element at a specified index\n",
        "\n",
        "-> If no index is provided, it defaults to removing and returning the last element of the list\n",
        "\n",
        "-> Syntax: list.pop(index)\n",
        "\n",
        "-> If you call pop() without an argument, it removes and returns the last element of the list\n",
        "\n",
        "-> By providing an index, pop() removes and returns the element at that position\n",
        "\n",
        "\n",
        "\n"
      ],
      "metadata": {
        "id": "Ws7LLuQsEIG5"
      }
    },
    {
      "cell_type": "code",
      "source": [
        "fruits = ['apple', 'banana', 'cherry']\n",
        "last_fruit = fruits.pop()\n",
        "print(last_fruit)\n",
        "print(fruits)"
      ],
      "metadata": {
        "colab": {
          "base_uri": "https://localhost:8080/"
        },
        "id": "DoDT0YjKWp2J",
        "outputId": "33a27938-9646-4a1a-a820-a3a8d0846782"
      },
      "execution_count": null,
      "outputs": [
        {
          "output_type": "stream",
          "name": "stdout",
          "text": [
            "cherry\n",
            "['apple', 'banana']\n"
          ]
        }
      ]
    },
    {
      "cell_type": "code",
      "source": [
        "fruits = ['apple', 'banana', 'cherry']\n",
        "second_fruit = fruits.pop(1)\n",
        "print(second_fruit)\n",
        "print(fruits)"
      ],
      "metadata": {
        "colab": {
          "base_uri": "https://localhost:8080/"
        },
        "id": "7XK9PEVnWvgA",
        "outputId": "2e626b42-6105-491e-c3ac-c18efdf604f4"
      },
      "execution_count": null,
      "outputs": [
        {
          "output_type": "stream",
          "name": "stdout",
          "text": [
            "banana\n",
            "['apple', 'cherry']\n"
          ]
        }
      ]
    },
    {
      "cell_type": "code",
      "source": [
        "animals = ['lion','tiger','elephant','beer','deer','monkey','giraffe']\n",
        "animals.pop(3)\n",
        "print(animals)"
      ],
      "metadata": {
        "colab": {
          "base_uri": "https://localhost:8080/"
        },
        "id": "jz0s-ZcUWzlw",
        "outputId": "d177b4df-a4a3-4dbe-c374-a08d79d77512"
      },
      "execution_count": null,
      "outputs": [
        {
          "output_type": "stream",
          "name": "stdout",
          "text": [
            "['lion', 'tiger', 'elephant', 'deer', 'monkey', 'giraffe']\n"
          ]
        }
      ]
    },
    {
      "cell_type": "markdown",
      "source": [
        "# **Clear**\n",
        "\n",
        "->  To remove all elements from a list, resulting in an empty list. This method is particularly useful when you want to retain the list object but discard its contents\n",
        "\n",
        "-> Syntax: list.clear()\n",
        "\n",
        "-> It does not return any value; it simply empties the list in place"
      ],
      "metadata": {
        "id": "ksajtbsfcrFh"
      }
    },
    {
      "cell_type": "code",
      "source": [
        "animals = ['lion','tiger','elephant','beer','deer','monkey','giraffe']\n",
        "animals.clear()\n",
        "print(animals)"
      ],
      "metadata": {
        "colab": {
          "base_uri": "https://localhost:8080/"
        },
        "id": "4ZydK23Pcdln",
        "outputId": "65851a8b-3dcd-4c29-8403-1c13405df2b9"
      },
      "execution_count": null,
      "outputs": [
        {
          "output_type": "stream",
          "name": "stdout",
          "text": [
            "[]\n"
          ]
        }
      ]
    },
    {
      "cell_type": "markdown",
      "source": [
        "# **Count**\n",
        "\n",
        "-> It returns the number of times a specified value appears in the list"
      ],
      "metadata": {
        "id": "oU5BRodoibxS"
      }
    },
    {
      "cell_type": "code",
      "source": [
        "num_hut = [2,5,7,1,4,6,9,8,3,0,0,4,1,3,6,7,3,8,7,4,3,1,9,9,5,6]\n",
        "print(num_hut.count(0))"
      ],
      "metadata": {
        "colab": {
          "base_uri": "https://localhost:8080/"
        },
        "id": "aBrlCNTUi4NU",
        "outputId": "74aa6e9c-cb0f-494f-e18f-30c14b9b45bc"
      },
      "execution_count": null,
      "outputs": [
        {
          "output_type": "stream",
          "name": "stdout",
          "text": [
            "2\n"
          ]
        }
      ]
    },
    {
      "cell_type": "code",
      "source": [
        "num_hut = [2,5,7,1,4,6,9,8,3,0,0,4,1,3,6,7,3,8,7,4,3,1,9,9,5,6]\n",
        "print(num_hut.count(10))"
      ],
      "metadata": {
        "colab": {
          "base_uri": "https://localhost:8080/"
        },
        "id": "jimxmkGIT9gq",
        "outputId": "bdab24df-5408-4d56-8102-da0f807a733c"
      },
      "execution_count": null,
      "outputs": [
        {
          "output_type": "stream",
          "name": "stdout",
          "text": [
            "0\n"
          ]
        }
      ]
    },
    {
      "cell_type": "markdown",
      "source": [
        "# **Index**\n",
        "\n",
        "-> It returns the index (position) of the first occurrence of the given element in the list\n",
        "\n",
        "->If the element is not found, it throws a ValueError\n",
        "\n",
        "-> Syntax: list.index(x[, start[, end]])\n",
        "\n",
        "x → the value you’re searching for.\n",
        "\n",
        "start → optional. The position to 'start' searching from.\n",
        "\n",
        "end → optional. The position to stop searching (This is exclusive, at the same time you cannot use 'end' alone without start).\n"
      ],
      "metadata": {
        "id": "cKEhIZ7GjYt4"
      }
    },
    {
      "cell_type": "code",
      "source": [
        "# Example 1 — Basic Use\n",
        "\n",
        "ipl = ['RR','DCH','CSK','CSK','KKR','MI','KKR','MI','SRH','MI','CSK','MI','MI','CSK','GT','CSK','KKR']\n",
        "print(ipl.index('KKR'))"
      ],
      "metadata": {
        "colab": {
          "base_uri": "https://localhost:8080/"
        },
        "id": "jTa7NU44_geY",
        "outputId": "58835aed-4c2f-48ba-fc01-5f1f66eac2bc"
      },
      "execution_count": null,
      "outputs": [
        {
          "output_type": "stream",
          "name": "stdout",
          "text": [
            "4\n"
          ]
        }
      ]
    },
    {
      "cell_type": "code",
      "source": [
        "# Example 2 — With 'Start'\n",
        "\n",
        "ipl = ['RR','DCH','CSK','CSK','KKR','MI','KKR','MI','SRH','MI','CSK','MI','MI','CSK','GT','CSK','KKR']\n",
        "print(ipl.index('MI',6))"
      ],
      "metadata": {
        "colab": {
          "base_uri": "https://localhost:8080/"
        },
        "id": "CK17sB56_5v6",
        "outputId": "9e0baeaa-0f70-4a26-841c-08a3fbfa5626"
      },
      "execution_count": null,
      "outputs": [
        {
          "output_type": "stream",
          "name": "stdout",
          "text": [
            "7\n"
          ]
        }
      ]
    },
    {
      "cell_type": "code",
      "source": [
        "# Example 2 — With 'Start' & 'End\n",
        "\n",
        "ipl = ['RR','DCH','CSK','CSK','KKR','MI','KKR','MI','SRH','MI','CSK','MI','MI','CSK','GT','CSK','KKR']\n",
        "print(ipl.index('CSK',11,17))"
      ],
      "metadata": {
        "colab": {
          "base_uri": "https://localhost:8080/"
        },
        "id": "o2bNdXF5AokP",
        "outputId": "580ba56f-8107-4fcc-8bb7-9fc73333685a"
      },
      "execution_count": null,
      "outputs": [
        {
          "output_type": "stream",
          "name": "stdout",
          "text": [
            "13\n"
          ]
        }
      ]
    },
    {
      "cell_type": "markdown",
      "source": [
        "# **Sort**\n",
        "\n",
        "-> It is to arrange elements in a specific order – ascending or descending\n",
        "\n",
        "-> It changes (modifies) the original list; It doesn’t return a new list;Instead, it returns None\n",
        "\n",
        "-> Syntax: list.sort(key=None, reverse=False)\n",
        "\n",
        "*   key\tFunction used to customize what to sort by\n",
        "\n",
        "*   reverse\tIf True, sorts in descending order. Default is False\n"
      ],
      "metadata": {
        "id": "g0w9DPyfGioh"
      }
    },
    {
      "cell_type": "code",
      "source": [
        "# Basic Ascending Sort\n",
        "\n",
        "n1 = [9,1,8,4,2,7,3,6,0,5]\n",
        "n1.sort()\n",
        "\n",
        "n2 = [3,8,0,2,5,2,0,2,6,1]\n",
        "n2.sort()\n",
        "\n",
        "print(n1)\n",
        "print(n2)"
      ],
      "metadata": {
        "id": "j8o54aUAHWWN",
        "colab": {
          "base_uri": "https://localhost:8080/"
        },
        "outputId": "5bdade54-7c0b-40c0-cae9-ed661ef7f44e"
      },
      "execution_count": null,
      "outputs": [
        {
          "output_type": "stream",
          "name": "stdout",
          "text": [
            "[0, 1, 2, 3, 4, 5, 6, 7, 8, 9]\n",
            "[0, 0, 1, 2, 2, 2, 3, 5, 6, 8]\n"
          ]
        }
      ]
    },
    {
      "cell_type": "code",
      "source": [
        "# Descending Sort\n",
        "\n",
        "n1 = [9,1,8,4,2,7,3,6,0,5]\n",
        "n1.sort(reverse=True)\n",
        "\n",
        "n2 = [3,8,0,2,5,2,0,2,6,1]\n",
        "n2.sort(reverse=True)\n",
        "\n",
        "print(n1)\n",
        "print(n2)"
      ],
      "metadata": {
        "colab": {
          "base_uri": "https://localhost:8080/"
        },
        "id": "25sCRRiaU-OW",
        "outputId": "6e024757-0cc8-4270-969f-8cd71837fddd"
      },
      "execution_count": null,
      "outputs": [
        {
          "output_type": "stream",
          "name": "stdout",
          "text": [
            "[9, 8, 7, 6, 5, 4, 3, 2, 1, 0]\n",
            "[8, 6, 5, 3, 2, 2, 2, 1, 0, 0]\n"
          ]
        }
      ]
    },
    {
      "cell_type": "code",
      "source": [
        "# len → Sort by length\n",
        "\n",
        "animals = ['lion','tiger','elephant','beer','deer','monkey','giraffe']\n",
        "animals.sort(key=len)\n",
        "print(animals)"
      ],
      "metadata": {
        "colab": {
          "base_uri": "https://localhost:8080/"
        },
        "id": "t4m1Nw47VyyQ",
        "outputId": "0b370e45-2662-420e-e41f-f0a9e639be7a"
      },
      "execution_count": null,
      "outputs": [
        {
          "output_type": "stream",
          "name": "stdout",
          "text": [
            "['lion', 'beer', 'deer', 'tiger', 'monkey', 'giraffe', 'elephant']\n"
          ]
        }
      ]
    },
    {
      "cell_type": "code",
      "source": [
        "# str.lower/str.upper → Case-insensitive sorting\n",
        "\n",
        "fruits = ['banana', 'Apple', 'fig', 'Kiwi','MAngo','oRange']\n",
        "fruits.sort(key=str.lower)\n",
        "print(fruits)\n"
      ],
      "metadata": {
        "colab": {
          "base_uri": "https://localhost:8080/"
        },
        "id": "LlYb5gyoWmzi",
        "outputId": "a2b1939e-0f99-48fd-efee-4b3b935981b6"
      },
      "execution_count": null,
      "outputs": [
        {
          "output_type": "stream",
          "name": "stdout",
          "text": [
            "['Apple', 'banana', 'fig', 'Kiwi', 'MAngo', 'oRange']\n"
          ]
        }
      ]
    },
    {
      "cell_type": "code",
      "source": [
        "# abs → Sort numbers by absolute value\n",
        "\n",
        "nums = [-10, 2, -3, 0, 7, 4, -5]\n",
        "nums.sort(key=abs)\n",
        "print(nums)"
      ],
      "metadata": {
        "colab": {
          "base_uri": "https://localhost:8080/"
        },
        "id": "i8XURaV5XLSZ",
        "outputId": "c8e63fe8-19e4-4fe8-d5d5-e7e35586201e"
      },
      "execution_count": null,
      "outputs": [
        {
          "output_type": "stream",
          "name": "stdout",
          "text": [
            "[0, 2, -3, 4, -5, 7, -10]\n"
          ]
        }
      ]
    },
    {
      "cell_type": "markdown",
      "source": [
        "# **Reverse**\n",
        "\n",
        "-> It reverses the elements of a list in-place — meaning, it modifies the original list itself and doesn’t return a new one\n",
        "\n",
        "-> Syntax: list_name.reverse()\n",
        "\n",
        "-> No arguments needed inside the braces - Just call it on your list"
      ],
      "metadata": {
        "id": "-R6faQAyW39b"
      }
    },
    {
      "cell_type": "code",
      "source": [
        "sss = [2,4,6,8,10,12]\n",
        "sss.reverse()\n",
        "print(sss)"
      ],
      "metadata": {
        "colab": {
          "base_uri": "https://localhost:8080/"
        },
        "id": "xIqtFFUcXsB3",
        "outputId": "18e05bde-9f20-44ed-8dbe-6235e7bfe124"
      },
      "execution_count": null,
      "outputs": [
        {
          "output_type": "stream",
          "name": "stdout",
          "text": [
            "[12, 10, 8, 6, 4, 2]\n"
          ]
        }
      ]
    },
    {
      "cell_type": "markdown",
      "source": [
        "# **Copy**\n",
        "\n",
        "-> It creates a shallow copy of a list. This means it makes a new list with the same elements as the original, but not linked to the original\n",
        "\n",
        "-> Syntax: new_list = old_list.copy()\n"
      ],
      "metadata": {
        "id": "hy7dhF3IklXk"
      }
    },
    {
      "cell_type": "code",
      "source": [
        "sss = [2,4,6,8,10,12]\n",
        "sss.copy()"
      ],
      "metadata": {
        "colab": {
          "base_uri": "https://localhost:8080/"
        },
        "id": "7JE1ofR7t5w6",
        "outputId": "77f6cc33-8a27-4b48-9bfd-26f9114fbbf0"
      },
      "execution_count": null,
      "outputs": [
        {
          "output_type": "execute_result",
          "data": {
            "text/plain": [
              "[2, 4, 6, 8, 10, 12]"
            ]
          },
          "metadata": {},
          "execution_count": 1
        }
      ]
    },
    {
      "cell_type": "code",
      "source": [
        "tea = [['milk','water'],['sugar','tea powder'],['Ginger','Cardamom','Cinnamon','Cloves']]\n",
        "tea_copy = tea.copy()\n",
        "print(tea_copy)\n"
      ],
      "metadata": {
        "colab": {
          "base_uri": "https://localhost:8080/"
        },
        "id": "h8PsC1l5uPa6",
        "outputId": "000693b7-c4fd-406b-9612-d5a4b6a5db3b"
      },
      "execution_count": null,
      "outputs": [
        {
          "output_type": "stream",
          "name": "stdout",
          "text": [
            "[['milk', 'water'], ['sugar', 'tea powder'], ['Ginger', 'Cardamom', 'Cinnamon', 'Cloves']]\n"
          ]
        }
      ]
    },
    {
      "cell_type": "markdown",
      "source": [
        "# **Length**\n",
        "\n",
        "->Returns the number of elements in the list.\n"
      ],
      "metadata": {
        "id": "T1urvo4GvzUg"
      }
    },
    {
      "cell_type": "code",
      "source": [
        "tea = [['milk','water'],['sugar','tea powder'],['Ginger','Cardamom','Cinnamon','Cloves']]\n",
        "len(tea)"
      ],
      "metadata": {
        "colab": {
          "base_uri": "https://localhost:8080/"
        },
        "id": "AUHzV7Ssv8wp",
        "outputId": "746492ce-6448-444d-fac2-9d693b5d1573"
      },
      "execution_count": null,
      "outputs": [
        {
          "output_type": "execute_result",
          "data": {
            "text/plain": [
              "3"
            ]
          },
          "metadata": {},
          "execution_count": 3
        }
      ]
    },
    {
      "cell_type": "code",
      "source": [
        "sss = [2,4,6,8,10,12]\n",
        "len(sss)"
      ],
      "metadata": {
        "colab": {
          "base_uri": "https://localhost:8080/"
        },
        "id": "jHULYVzIwBh8",
        "outputId": "5a4a0e1f-cdcf-42e3-e0e5-02032e24ac9b"
      },
      "execution_count": null,
      "outputs": [
        {
          "output_type": "execute_result",
          "data": {
            "text/plain": [
              "6"
            ]
          },
          "metadata": {},
          "execution_count": 5
        }
      ]
    },
    {
      "cell_type": "markdown",
      "source": [
        "# **Max/Min**\n",
        "\n",
        "-> Max() - Returns the maximum (largest) element from the list\n",
        "\n",
        "-> Min() - Returns the maximum/minimum value in the list"
      ],
      "metadata": {
        "id": "F7aAT5HS8Ekv"
      }
    },
    {
      "cell_type": "code",
      "source": [
        "animals = ['lion','tiger','elephant','bear','deer','monkey','giraffe']\n",
        "print(max(animals))\n",
        "print(min(animals))\n"
      ],
      "metadata": {
        "colab": {
          "base_uri": "https://localhost:8080/"
        },
        "id": "FDGSiYOY8gFL",
        "outputId": "9edcee38-5b02-40be-d227-1de818f1c6d7"
      },
      "execution_count": null,
      "outputs": [
        {
          "output_type": "stream",
          "name": "stdout",
          "text": [
            "tiger\n",
            "bear\n"
          ]
        }
      ]
    },
    {
      "cell_type": "code",
      "source": [
        "sss = [2,4,6,8,10,12]\n",
        "print(max(sss))\n",
        "print(min(sss))\n"
      ],
      "metadata": {
        "colab": {
          "base_uri": "https://localhost:8080/"
        },
        "id": "3gEGgOqS9cx1",
        "outputId": "bb85c678-5212-4910-b00c-50baf09cf3fa"
      },
      "execution_count": null,
      "outputs": [
        {
          "output_type": "stream",
          "name": "stdout",
          "text": [
            "12\n",
            "2\n"
          ]
        }
      ]
    },
    {
      "cell_type": "markdown",
      "source": [
        "# **Sum**\n",
        "\n",
        "-> It returns the sum of all numeric values in a list (or any iterable like tuple, set, etc.)\n",
        "\n",
        "-> Syntax: sum(iterable, start)\n",
        "\n",
        "*   iterable: list/tuple/set of numbers\n",
        "\n",
        "*   start (optional): a number to start adding from (default = 0)\n",
        "\n",
        "\n",
        "Use Case\t                  Code Example\t                      Result\n",
        "Normal list of ints\t        sum([1, 2, 3])\t                      6\n",
        "With start value\t          sum([1, 2, 3], 5)\t                    11\n",
        "List of floats\t            sum([1.1, 2.2, 3.3])\t                6.6\n",
        "Empty list\t                sum([])\t                              0\n",
        "With list comprehension\t    sum([x for x in range(5)])\t          10"
      ],
      "metadata": {
        "id": "90fwtELb93JQ"
      }
    },
    {
      "cell_type": "code",
      "source": [
        "sss = [2,4,6,8,10,12]\n",
        "print(sum(sss))"
      ],
      "metadata": {
        "colab": {
          "base_uri": "https://localhost:8080/"
        },
        "id": "7cGgRB-j-hmj",
        "outputId": "f098488e-06bc-4ccb-d506-e5f362f083b5"
      },
      "execution_count": null,
      "outputs": [
        {
          "output_type": "stream",
          "name": "stdout",
          "text": [
            "42\n"
          ]
        }
      ]
    },
    {
      "cell_type": "code",
      "source": [
        "sss = [2,4,6,8,10,12]\n",
        "print(sum(sss,100))"
      ],
      "metadata": {
        "colab": {
          "base_uri": "https://localhost:8080/"
        },
        "id": "UVa-q1l__MkT",
        "outputId": "fe4963c9-655d-4edb-b506-83aecf186989"
      },
      "execution_count": null,
      "outputs": [
        {
          "output_type": "stream",
          "name": "stdout",
          "text": [
            "142\n"
          ]
        }
      ]
    },
    {
      "cell_type": "code",
      "source": [
        "animals = ['lion','tiger','elephant','bear','deer','monkey','giraffe']\n",
        "print(sum(animals))"
      ],
      "metadata": {
        "colab": {
          "base_uri": "https://localhost:8080/",
          "height": 164
        },
        "id": "NvHuDAm1_E24",
        "outputId": "befee557-91f3-4e0e-f0c4-dda5e4f6403b"
      },
      "execution_count": null,
      "outputs": [
        {
          "output_type": "error",
          "ename": "TypeError",
          "evalue": "unsupported operand type(s) for +: 'int' and 'str'",
          "traceback": [
            "\u001b[0;31m---------------------------------------------------------------------------\u001b[0m",
            "\u001b[0;31mTypeError\u001b[0m                                 Traceback (most recent call last)",
            "\u001b[0;32m<ipython-input-14-983227189758>\u001b[0m in \u001b[0;36m<cell line: 0>\u001b[0;34m()\u001b[0m\n\u001b[1;32m      1\u001b[0m \u001b[0manimals\u001b[0m \u001b[0;34m=\u001b[0m \u001b[0;34m[\u001b[0m\u001b[0;34m'lion'\u001b[0m\u001b[0;34m,\u001b[0m\u001b[0;34m'tiger'\u001b[0m\u001b[0;34m,\u001b[0m\u001b[0;34m'elephant'\u001b[0m\u001b[0;34m,\u001b[0m\u001b[0;34m'bear'\u001b[0m\u001b[0;34m,\u001b[0m\u001b[0;34m'deer'\u001b[0m\u001b[0;34m,\u001b[0m\u001b[0;34m'monkey'\u001b[0m\u001b[0;34m,\u001b[0m\u001b[0;34m'giraffe'\u001b[0m\u001b[0;34m]\u001b[0m\u001b[0;34m\u001b[0m\u001b[0;34m\u001b[0m\u001b[0m\n\u001b[0;32m----> 2\u001b[0;31m \u001b[0mprint\u001b[0m\u001b[0;34m(\u001b[0m\u001b[0msum\u001b[0m\u001b[0;34m(\u001b[0m\u001b[0manimals\u001b[0m\u001b[0;34m)\u001b[0m\u001b[0;34m)\u001b[0m\u001b[0;34m\u001b[0m\u001b[0;34m\u001b[0m\u001b[0m\n\u001b[0m",
            "\u001b[0;31mTypeError\u001b[0m: unsupported operand type(s) for +: 'int' and 'str'"
          ]
        }
      ]
    },
    {
      "cell_type": "markdown",
      "source": [
        "# **Sorted**\n",
        "\n",
        "-> It returns a new sorted list from the items of any iterable (like a list, tuple, etc), without modifying the original\n",
        "\n",
        "-> So, this function Sorts the elements → Returns new list/tuple/set → Leaves original one untouched\n",
        "\n",
        "-> Syntax: sorted(iterable, *, key=None, reverse=False)\n",
        "\n",
        "*   iterable - The list (or tuple, etc.) to be sorted\n",
        "*   key\t- A function to customize sorting (optional)\n",
        "*   reverse\t- If True, sorts in descending order (default is False)\n",
        "\n",
        "-> Using sorted() function (does NOT modify the original list) | Using .sort() method (modifies the list in-place)\n"
      ],
      "metadata": {
        "id": "yZqHMIIzAgfC"
      }
    },
    {
      "cell_type": "code",
      "source": [
        "m7 = [49,28,42,63,0,14,35,21,70,7]\n",
        "sorted_m7 = sorted(m7)\n",
        "print(sorted_m7)"
      ],
      "metadata": {
        "colab": {
          "base_uri": "https://localhost:8080/"
        },
        "id": "89YNgsfyBNa_",
        "outputId": "02df1346-feab-4d59-9ce9-d772df0c1816"
      },
      "execution_count": null,
      "outputs": [
        {
          "output_type": "stream",
          "name": "stdout",
          "text": [
            "[0, 7, 14, 21, 28, 35, 42, 49, 63, 70]\n"
          ]
        }
      ]
    },
    {
      "cell_type": "code",
      "source": [
        "m7 = [49,28,42,63,0,14,35,21,70,7]\n",
        "sorted_m7 = sorted(m7, reverse=True)\n",
        "print(sorted_m7)"
      ],
      "metadata": {
        "colab": {
          "base_uri": "https://localhost:8080/"
        },
        "id": "Ma_CJa9dLkuo",
        "outputId": "5ee0b38a-9a3b-4189-abc9-e6012e6ba0b3"
      },
      "execution_count": null,
      "outputs": [
        {
          "output_type": "stream",
          "name": "stdout",
          "text": [
            "[70, 63, 49, 42, 35, 28, 21, 14, 7, 0]\n"
          ]
        }
      ]
    },
    {
      "cell_type": "code",
      "source": [
        "animals = ['lion','tiger','elephant','bear','deer','monkey','giraffe']\n",
        "sorted_animals = sorted(animals, key=str)\n",
        "print(sorted_animals)"
      ],
      "metadata": {
        "colab": {
          "base_uri": "https://localhost:8080/"
        },
        "id": "JiBKuH5rLsqa",
        "outputId": "5d9847dd-4042-406c-c368-4c6fb5fd73bb"
      },
      "execution_count": null,
      "outputs": [
        {
          "output_type": "stream",
          "name": "stdout",
          "text": [
            "['bear', 'deer', 'elephant', 'giraffe', 'lion', 'monkey', 'tiger']\n"
          ]
        }
      ]
    },
    {
      "cell_type": "code",
      "source": [
        "animals = ['lion','tiger','elephant','bear','deer','monkey','giraffe']\n",
        "sorted_animals = sorted(animals, key=len)\n",
        "print(sorted_animals)"
      ],
      "metadata": {
        "colab": {
          "base_uri": "https://localhost:8080/"
        },
        "id": "Coiajw_-MEXa",
        "outputId": "73f63330-2de4-463d-b14f-ff4cda377eaf"
      },
      "execution_count": null,
      "outputs": [
        {
          "output_type": "stream",
          "name": "stdout",
          "text": [
            "['lion', 'bear', 'deer', 'tiger', 'monkey', 'giraffe', 'elephant']\n"
          ]
        }
      ]
    },
    {
      "cell_type": "code",
      "source": [
        "fruitos = [\"banana\", \"Apple\", \"cherry\", \"apricot\", \"Mango\"]\n",
        "sorted_fruitos = sorted(fruitos, key=str.lower)\n",
        "print(sorted_fruitos)"
      ],
      "metadata": {
        "colab": {
          "base_uri": "https://localhost:8080/"
        },
        "id": "gKxdGN-YNEQR",
        "outputId": "808b714b-00c8-4d0b-fccc-6a159e9628cd"
      },
      "execution_count": null,
      "outputs": [
        {
          "output_type": "stream",
          "name": "stdout",
          "text": [
            "['Apple', 'apricot', 'banana', 'cherry', 'Mango']\n"
          ]
        }
      ]
    },
    {
      "cell_type": "markdown",
      "source": [
        "# **Any() / All()**\n",
        "\n",
        "->  any(iterable)\n",
        "*   Returns True if at least one element in the iterable is truthy.\n",
        "*   Returns False only if all elements are falsy.\n",
        "\n",
        "-> all(iterable)\n",
        "*   Returns True only if every element in the iterable is truthy.\n",
        "*   Returns False if any element is falsy.\n",
        "\n",
        "Truthy and Falsy in Python:\n",
        "\n",
        "> 0 - Falsy\n",
        "\n",
        "> \"\" (empty string) - Falsy\n",
        "\n",
        "> [], (), {} (empty containers)\t- Falsy\n",
        "\n",
        "> None\t- Falsy\n",
        "\n",
        ">False -\tFalsy\n",
        "\n",
        ">All other non-zero / non-empty values -\tTruthy\n",
        "\n"
      ],
      "metadata": {
        "id": "xwsr0ZP1N1es"
      }
    },
    {
      "cell_type": "code",
      "source": [
        "# Examples of any()\n",
        "\n",
        "print(any([0, False, \"\", [], None]))       # ➜ False (everything is falsy)\n",
        "print(any([0, \"\", 5, [], None]))           # ➜ True (5 is truthy)\n",
        "print(any([\"\", \"Razz\", \"\"]))               # ➜ True (\"Razz\" is truthy)"
      ],
      "metadata": {
        "colab": {
          "base_uri": "https://localhost:8080/"
        },
        "id": "ax26-JG3Oo3w",
        "outputId": "6b0a83b8-45bc-431e-a71a-7960d8ec82dd"
      },
      "execution_count": null,
      "outputs": [
        {
          "output_type": "stream",
          "name": "stdout",
          "text": [
            "False\n",
            "True\n",
            "True\n"
          ]
        }
      ]
    },
    {
      "cell_type": "code",
      "source": [
        "# Examples of all()\n",
        "\n",
        "print(all([1, 2, 3]))                      # ➜ True (all are truthy)\n",
        "print(all([1, 0, 3]))                      # ➜ False (0 is falsy)\n",
        "print(all([\"Razz\", \"Divya\", \"\"]))          # ➜ False (empty string is falsy)\n",
        "print(all([\"Python\", \"Rocks\"]))            # ➜ True"
      ],
      "metadata": {
        "colab": {
          "base_uri": "https://localhost:8080/"
        },
        "id": "1hRgsZinRmx9",
        "outputId": "a592172e-ce49-45e1-a4d6-08a597fdbc62"
      },
      "execution_count": null,
      "outputs": [
        {
          "output_type": "stream",
          "name": "stdout",
          "text": [
            "True\n",
            "False\n",
            "False\n",
            "True\n"
          ]
        }
      ]
    },
    {
      "cell_type": "markdown",
      "source": [
        "# **Item Checking**\n",
        "\n",
        "-> To check if an item exists in a tuple\n",
        "\n",
        "-> This returns True if the item is present, else False\n",
        "\n",
        "-> Syntax: item/element in tuple name"
      ],
      "metadata": {
        "id": "Jn0JwJXoroRD"
      }
    },
    {
      "cell_type": "code",
      "source": [
        "banks = ['IOB','HDFC','SBI','ICICI','Canara','KVB','IDBI']\n",
        "\n",
        "'IOB' in banks"
      ],
      "metadata": {
        "colab": {
          "base_uri": "https://localhost:8080/"
        },
        "id": "inloDUlrreCB",
        "outputId": "f0c435a0-ab17-4ebf-994b-7294c5d7bd1d"
      },
      "execution_count": null,
      "outputs": [
        {
          "output_type": "execute_result",
          "data": {
            "text/plain": [
              "True"
            ]
          },
          "metadata": {},
          "execution_count": 1
        }
      ]
    },
    {
      "cell_type": "markdown",
      "source": [
        "# **Slicing in a LIST**\n",
        "\n",
        "-> Slicing is a way to extract a subset (a portion) of a sequence — like a list or string.\n",
        "\n",
        "-> Syntax: list[start:stop:step]\n",
        "\n",
        " - start: The index where the slice begins (inclusive)\n",
        "\n",
        " - stop: The index where it ends (exclusive)\n",
        "\n",
        " - step: (optional) how many steps to skip (default is 1)\n",
        "\n",
        "-> Slicing never throws an error if indices are out of range.\n",
        "\n",
        "-> If start or stop are out of range, it won’t throw an error. It will simply return an empty list if the start index is too large or will slice up to the last element if stop exceeds the list length.\n",
        "\n",
        "-> Slicing returns a new list — the original list stays unchanged.\n",
        "\n",
        "-> The original list remains unchanged. The new list is a copy of the original, modified according to the slice. Lists are mutable, but slicing doesn’t modify the original.\n",
        "\n"
      ],
      "metadata": {
        "id": "XgmcwjVwr1-8"
      }
    },
    {
      "cell_type": "code",
      "source": [
        "fruits = [\"apple\", \"banana\", \"cherry\", \"dates\", \"fig\", \"grape\"]\n",
        "\n",
        "# Using only start:\n",
        "\n",
        "print(fruits[2:])"
      ],
      "metadata": {
        "colab": {
          "base_uri": "https://localhost:8080/"
        },
        "id": "_M3y1XAxteIa",
        "outputId": "5ff97cf1-dc98-494e-b9b9-a29d741d0d3b"
      },
      "execution_count": null,
      "outputs": [
        {
          "output_type": "stream",
          "name": "stdout",
          "text": [
            "['cherry', 'dates', 'fig', 'grape']\n"
          ]
        }
      ]
    },
    {
      "cell_type": "code",
      "source": [
        "fruits = [\"apple\", \"banana\", \"cherry\", \"dates\", \"fig\", \"grape\"]\n",
        "\n",
        "# Using :stop only\n",
        "\n",
        "print(fruits[:4])"
      ],
      "metadata": {
        "colab": {
          "base_uri": "https://localhost:8080/"
        },
        "id": "KLpyDLeztoCz",
        "outputId": "b4331be3-b574-486f-9cf8-dc6cd743b101"
      },
      "execution_count": null,
      "outputs": [
        {
          "output_type": "stream",
          "name": "stdout",
          "text": [
            "['apple', 'banana', 'cherry', 'dates']\n"
          ]
        }
      ]
    },
    {
      "cell_type": "code",
      "source": [
        "fruits = [\"apple\", \"banana\", \"cherry\", \"dates\", \"fig\", \"grape\"]\n",
        "\n",
        "# Using ::step\n",
        "\n",
        "print(fruits[::2])"
      ],
      "metadata": {
        "colab": {
          "base_uri": "https://localhost:8080/"
        },
        "id": "rdkKZCWltxK7",
        "outputId": "6568f13d-3cc1-490c-e14f-e74e4f0b4df5"
      },
      "execution_count": null,
      "outputs": [
        {
          "output_type": "stream",
          "name": "stdout",
          "text": [
            "['apple', 'cherry', 'fig']\n"
          ]
        }
      ]
    },
    {
      "cell_type": "code",
      "source": [
        "m2 = [0,1,2,3,4,5,6,7,8,9,10,11,12,13,14,15,16,17,18,19,20,21,22,23,24,25,26,27,28,29,30]\n",
        "\n",
        "print(m2[::2])"
      ],
      "metadata": {
        "colab": {
          "base_uri": "https://localhost:8080/"
        },
        "id": "5waftQI3t-3b",
        "outputId": "8c7f2d58-aea8-4277-dee3-43e894f44521"
      },
      "execution_count": null,
      "outputs": [
        {
          "output_type": "stream",
          "name": "stdout",
          "text": [
            "[0, 2, 4, 6, 8, 10, 12, 14, 16, 18, 20, 22, 24, 26, 28, 30]\n"
          ]
        }
      ]
    }
  ]
}